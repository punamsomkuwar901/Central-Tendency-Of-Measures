{
 "cells": [
  {
   "cell_type": "markdown",
   "id": "b86c0798",
   "metadata": {},
   "source": [
    "# Central Tendency of Measures"
   ]
  },
  {
   "cell_type": "code",
   "execution_count": 1,
   "id": "0a28102e",
   "metadata": {},
   "outputs": [],
   "source": [
    "# Practical No:8"
   ]
  },
  {
   "cell_type": "code",
   "execution_count": 2,
   "id": "7564137a",
   "metadata": {},
   "outputs": [],
   "source": [
    "#Aim:To Perform Central Tendency of Measures"
   ]
  },
  {
   "cell_type": "code",
   "execution_count": 1,
   "id": "c496a5ed",
   "metadata": {},
   "outputs": [],
   "source": [
    "#Name: Punam S.Somkuwar\n",
    "#Roll NO.:64\n",
    "#Sec:C\n",
    "#Subject:ET-1\n",
    "#Date:30/08/2024"
   ]
  },
  {
   "cell_type": "code",
   "execution_count": 4,
   "id": "247f8a25",
   "metadata": {},
   "outputs": [],
   "source": [
    "import pandas as pd"
   ]
  },
  {
   "cell_type": "code",
   "execution_count": 5,
   "id": "3ba120d8",
   "metadata": {},
   "outputs": [],
   "source": [
    "import os"
   ]
  },
  {
   "cell_type": "code",
   "execution_count": 30,
   "id": "0a92b3be",
   "metadata": {},
   "outputs": [
    {
     "data": {
      "text/plain": [
       "'C:\\\\Users\\\\nikhi\\\\Desktop'"
      ]
     },
     "execution_count": 30,
     "metadata": {},
     "output_type": "execute_result"
    }
   ],
   "source": [
    "os.getcwd()"
   ]
  },
  {
   "cell_type": "code",
   "execution_count": 31,
   "id": "a08dcc5c",
   "metadata": {},
   "outputs": [],
   "source": [
    "os.chdir(\"C:\\\\Users\\\\nikhi\\\\Desktop\")"
   ]
  },
  {
   "cell_type": "code",
   "execution_count": 32,
   "id": "192c7b43",
   "metadata": {},
   "outputs": [],
   "source": [
    "data=pd.read_csv(\"gender_submission (1).csv\")"
   ]
  },
  {
   "cell_type": "code",
   "execution_count": 33,
   "id": "269b2f8a",
   "metadata": {},
   "outputs": [
    {
     "name": "stdout",
     "output_type": "stream",
     "text": [
      "<class 'pandas.core.frame.DataFrame'>\n",
      "RangeIndex: 418 entries, 0 to 417\n",
      "Data columns (total 2 columns):\n",
      " #   Column       Non-Null Count  Dtype\n",
      "---  ------       --------------  -----\n",
      " 0   PassengerId  418 non-null    int64\n",
      " 1   Survived     418 non-null    int64\n",
      "dtypes: int64(2)\n",
      "memory usage: 6.7 KB\n",
      "None\n"
     ]
    }
   ],
   "source": [
    "print(data.info())"
   ]
  },
  {
   "cell_type": "code",
   "execution_count": 34,
   "id": "86cf842f",
   "metadata": {},
   "outputs": [
    {
     "name": "stdout",
     "output_type": "stream",
     "text": [
      "Mean Passenger: 1100.5\n",
      "Mean survived: 0.36363636363636365\n"
     ]
    }
   ],
   "source": [
    "mean_PassengerId = data['PassengerId'].mean()\n",
    "mean_Survived = data['Survived'].mean()\n",
    "\n",
    "print(f\"Mean Passenger: {mean_PassengerId}\")\n",
    "print(f\"Mean survived: {mean_Survived}\")"
   ]
  },
  {
   "cell_type": "code",
   "execution_count": 38,
   "id": "c0672b46",
   "metadata": {},
   "outputs": [
    {
     "name": "stdout",
     "output_type": "stream",
     "text": [
      "Median Passenger: 1100.5\n",
      "Median survived: 0.0\n"
     ]
    }
   ],
   "source": [
    "median_PassengerId = data['PassengerId'].median()\n",
    "median_Survived = data['Survived'].median()\n",
    "\n",
    "print(f\"Median Passenger: {median_PassengerId}\")\n",
    "print(f\"Median survived: {median_Survived}\")"
   ]
  },
  {
   "cell_type": "code",
   "execution_count": 39,
   "id": "c7072a13",
   "metadata": {},
   "outputs": [
    {
     "name": "stdout",
     "output_type": "stream",
     "text": [
      "Mode Passenger: 0       892\n",
      "1       893\n",
      "2       894\n",
      "3       895\n",
      "4       896\n",
      "       ... \n",
      "413    1305\n",
      "414    1306\n",
      "415    1307\n",
      "416    1308\n",
      "417    1309\n",
      "Name: PassengerId, Length: 418, dtype: int64\n",
      "Mode survived: 0    0\n",
      "Name: Survived, dtype: int64\n"
     ]
    }
   ],
   "source": [
    "mode_PassengerId = data['PassengerId'].mode()\n",
    "mode_Survived = data['Survived'].mode()\n",
    "\n",
    "print(f\"Mode Passenger: {mode_PassengerId}\")\n",
    "print(f\"Mode survived: {mode_Survived}\")"
   ]
  },
  {
   "cell_type": "code",
   "execution_count": null,
   "id": "54418616",
   "metadata": {},
   "outputs": [],
   "source": []
  }
 ],
 "metadata": {
  "kernelspec": {
   "display_name": "Python 3 (ipykernel)",
   "language": "python",
   "name": "python3"
  },
  "language_info": {
   "codemirror_mode": {
    "name": "ipython",
    "version": 3
   },
   "file_extension": ".py",
   "mimetype": "text/x-python",
   "name": "python",
   "nbconvert_exporter": "python",
   "pygments_lexer": "ipython3",
   "version": "3.11.5"
  }
 },
 "nbformat": 4,
 "nbformat_minor": 5
}
